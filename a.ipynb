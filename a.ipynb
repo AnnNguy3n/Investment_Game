{
 "cells": [
  {
   "cell_type": "code",
   "execution_count": 1,
   "metadata": {},
   "outputs": [],
   "source": [
    "from game import *\n",
    "import pandas as pd\n",
    "data = pd.read_excel(\"HOSE_File3_2023_Field.xlsx\")\n",
    "data = data[data[\"TIME\"] >= 2007]"
   ]
  },
  {
   "cell_type": "code",
   "execution_count": 2,
   "metadata": {},
   "outputs": [],
   "source": [
    "game = Game(data, 1.06, mode=\"human\")\n",
    "# {print(path) for path in dir(game) if not path.startswith(\"__\")}"
   ]
  },
  {
   "cell_type": "code",
   "execution_count": 3,
   "metadata": {},
   "outputs": [],
   "source": [
    "game.run_agent_code()"
   ]
  },
  {
   "cell_type": "code",
   "execution_count": null,
   "metadata": {},
   "outputs": [],
   "source": [
    "# {print(path) for path in dir(game._Game__list_agent[0]) if not path.startswith(\"__\")}"
   ]
  },
  {
   "cell_type": "code",
   "execution_count": 4,
   "metadata": {},
   "outputs": [
    {
     "data": {
      "text/plain": [
       "{2007: 0.7125423122151435,\n",
       " 2008: 0.5135427367781361,\n",
       " 2009: 1.906531086722164,\n",
       " 2010: 0.7588883860291049,\n",
       " 2011: 0.7885649367543955,\n",
       " 2012: 1.0656625197678187,\n",
       " 2013: 1.3532278133364115,\n",
       " 2014: 1.079491223666146,\n",
       " 2015: 1.1145278813820356,\n",
       " 2016: 1.1529993944317738,\n",
       " 2017: 1.13697795089925,\n",
       " 2018: 0.953789270027222,\n",
       " 2019: 0.9195131142064847,\n",
       " 2020: 1.8833655836244905,\n",
       " 2021: 1.545286330761284,\n",
       " 2022: 0.6171985803814799,\n",
       " 2023: 1.176836406102666e-16}"
      ]
     },
     "execution_count": 4,
     "metadata": {},
     "output_type": "execute_result"
    }
   ],
   "source": [
    "game.agent_profit_history[0]"
   ]
  },
  {
   "cell_type": "code",
   "execution_count": null,
   "metadata": {},
   "outputs": [],
   "source": [
    "# for cyc in range(2007, 2024):\n",
    "#     print(cyc)\n",
    "#     data = game.data\n",
    "#     l_ = len(data[\"SYMBOL\"][data[\"TIME\"] == data[\"TIME\"].max()])\n",
    "#     syms = np.random.choice(data[\"SYMBOL\"][data[\"TIME\"] == data[\"TIME\"].max()], l_, replace=False)\n",
    "#     ratio = np.random.uniform(1.0, 1.0, l_)\n",
    "#     ratio /= np.sum(ratio) # * 1.25\n",
    "#     dict_investment = {syms[i]:ratio[i] for i in range(l_)}\n",
    "#     game.invest(dict_investment, cyc)\n",
    "#     print()"
   ]
  }
 ],
 "metadata": {
  "kernelspec": {
   "display_name": "Python 3",
   "language": "python",
   "name": "python3"
  },
  "language_info": {
   "codemirror_mode": {
    "name": "ipython",
    "version": 3
   },
   "file_extension": ".py",
   "mimetype": "text/x-python",
   "name": "python",
   "nbconvert_exporter": "python",
   "pygments_lexer": "ipython3",
   "version": "3.10.9"
  },
  "orig_nbformat": 4
 },
 "nbformat": 4,
 "nbformat_minor": 2
}
